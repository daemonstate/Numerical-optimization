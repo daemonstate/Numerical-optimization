{
 "cells": [
  {
   "cell_type": "markdown",
   "id": "fdc4bf5b-926d-4efc-b37d-62fd627754b8",
   "metadata": {},
   "source": [
    "<h3>Every calculation in vanilla python adhere to IEEE 754 standard, therefore \n",
    "precision in floating point calculations need to be adjusted for each method <br/>\n",
    "    \n",
    "In my implementation I use fun(x) to define an objective function, I also use sympy library in order to deal with derivatives</h2>\n",
    "\n",
    "<h3>For each method I created a counter to track the number of iterations each method goes through, and also created a variable to track time it took for one iteration</h3>"
   ]
  },
  {
   "cell_type": "code",
   "execution_count": 1,
   "id": "1656d4aa-286b-49ae-a01c-c7623b0bfa02",
   "metadata": {},
   "outputs": [],
   "source": [
    "### define function in fun(x) class:\n",
    "import sympy as sp\n",
    "import math\n",
    "from math import e\n",
    "import time\n",
    "\n",
    "bisect_count=0\n",
    "newton_count=0\n",
    "secant_count=0\n",
    "regfal_count=0\n",
    "\n",
    "\n",
    "x = sp.symbols('x')"
   ]
  },
  {
   "cell_type": "markdown",
   "id": "d4b4ef4d-3eb3-4dbf-ad10-306f9f62f544",
   "metadata": {},
   "source": [
    "<h3>Bisection method in my implementation is a function that calculates midpointand check for the fun(a)*fun(midpoint)<0 condition to proceed, <br/>\n",
    "and in order to terminate the value of function at midpoint must be 0 or |a-b| < epsilon </h3>\n",
    "    <h3>For each function I made it such that you can provide an optional argumant of e that defines an epsilon (accuracy) </h3>\n",
    "    <h3>In bisection method I also check for the condition of the initial a and b to be such that fun(a)*fun(b)<0</h3>"
   ]
  },
  {
   "cell_type": "code",
   "execution_count": 2,
   "id": "52f4bdc8-6571-4389-8ebf-aac6b1afbc6d",
   "metadata": {},
   "outputs": [],
   "source": [
    "# Bisection method\n",
    "\n",
    "# To provide accuracy (epsilon) give argument in the following form:\n",
    "\n",
    "# bisection(a, b, e = 0.000001)\n",
    "\n",
    "def bisection(a, b, **kwargs):\n",
    "    t_bis = time.process_time()\n",
    "    global bisect_count \n",
    "    bisect_count+=1\n",
    "    if fun(a) * fun(b) >= 0:\n",
    "        raise ValueError(\"Check your range! fun(a)*fun(b) must be < 0\")\n",
    "   \n",
    "    epsilon = kwargs.get('e', 0.00000000000001)\n",
    "    midpoint = (a+b)/2\n",
    "    check = fun(midpoint)\n",
    "\n",
    "    # print(\"MIDPOINT: \", midpoint)\n",
    "    # print(\"a: \", a)\n",
    "    # print(\"b: \", b)\n",
    "    # print(\"y: \", check)\n",
    "\n",
    "\n",
    "    if abs(check) == 0 or ((abs(b-a)) < epsilon):\n",
    "        time_bis= time.process_time() - t_bis\n",
    "        res = f'{midpoint:.30f}'\n",
    "        print('converged at x =  ' + str(res))  \n",
    "        print('Bisection ended in ' + str(bisect_count) + ' iterations and ' + str(time_bis))\n",
    "        return res\n",
    "    if (fun(a)*fun(midpoint)<0):\n",
    "        b = midpoint\n",
    "    else:\n",
    "        a = midpoint\n",
    "    return bisection(a, b, **kwargs)\n",
    "\n",
    "    \n"
   ]
  },
  {
   "cell_type": "code",
   "execution_count": 3,
   "id": "cc9d98d3-b377-4145-9a32-76ccb03db1da",
   "metadata": {},
   "outputs": [],
   "source": [
    "# Example usage\n",
    "# print(bisection(-90,10,e=0.000001))\n",
    "# print(bisection(-90,10))\n",
    "# print(bisection(-90,1))\n",
    "# print(bisection(1,10))"
   ]
  },
  {
   "cell_type": "markdown",
   "id": "26402253-f187-4bd3-b269-98a4644b92b5",
   "metadata": {
    "tags": []
   },
   "source": [
    "<h3>In the implementation of Newton's method, I use sympy lab to find derivative and then its value at the xn point</h3>\n",
    "<h3>then I check if the |xn+1 - xn| < epsilon, if yes then terminate, else xn = xn+1 and repeat reccursively </h3>"
   ]
  },
  {
   "cell_type": "code",
   "execution_count": 4,
   "id": "e2bfb405-c2b0-45be-bd95-355fdf932801",
   "metadata": {},
   "outputs": [],
   "source": [
    "# Newton's method\n",
    "\n",
    "# to find a derivative, sympy library is used\n",
    "\n",
    "# To provide accuracy (epsilon) give argument in the following form:\n",
    "\n",
    "# newton(xn, e = 0.000001)\n",
    "\n",
    "def newton(xn, **kwargs):\n",
    "    t_new = time.process_time()\n",
    "    global newton_count \n",
    "    newton_count+=1\n",
    "    \n",
    "    epsilon = kwargs.get('e', 0.00000000000001)\n",
    "    derivative = sp.diff(fun(x), x)\n",
    "    derivative_value = float(derivative.subs(x, xn))\n",
    "    tangent = xn - (fun(xn)/derivative_value)\n",
    "    \n",
    "#     print(\"function value \",fun(xn))\n",
    "#     print(\"derivative value\", derivative_value)\n",
    "    \n",
    "    if abs(tangent - xn) < epsilon:\n",
    "        time_new= time.process_time() - t_new\n",
    "        res = f'{tangent:.30f}'\n",
    "        print(\"converged at x = \", res)\n",
    "        print('Newton ended in ' + str(newton_count) + ' iterations and ' + str(time_new))\n",
    "        return res\n",
    "    xn = tangent\n",
    "    return newton(xn, **kwargs)"
   ]
  },
  {
   "cell_type": "markdown",
   "id": "2ee97995-4676-40a7-a02c-d2c48d4a1f34",
   "metadata": {},
   "source": [
    "<h3>Secant method is basically a Newton's method with the approximation of the derivative as the difference </h3>\n"
   ]
  },
  {
   "cell_type": "code",
   "execution_count": 5,
   "id": "5f54aed8-e07d-407b-a48c-87a1c9bdaff1",
   "metadata": {},
   "outputs": [],
   "source": [
    "# Secant Method\n",
    "\n",
    "# To provide accuracy (epsilon) give argument in the following form:\n",
    "\n",
    "# secant(x0, x1, e = 0.000001)\n",
    "\n",
    "\n",
    "def secant(x0, x1, **kwargs):\n",
    "    t_sec = time.process_time()\n",
    "    global secant_count \n",
    "    secant_count+=1\n",
    "    \n",
    "    epsilon = kwargs.get('e', 0.00000000000001)\n",
    "    derivative = (fun(x1) - fun(x0))/(x1-x0)\n",
    "    xn_2 = x0 - (fun(x0)*(x1-x0))/(fun(x1)-fun(x0))\n",
    "    if abs(xn_2 - x1) < epsilon:\n",
    "        time_sec= time.process_time() - t_sec\n",
    "\n",
    "        res = f'{xn_2:.30f}'\n",
    "        print(\"converged at x = \", res)\n",
    "        print('Secant ended in ' + str(secant_count) + ' iterations and ' + str(time_sec))\n",
    "        return res\n",
    "    x0 = x1 \n",
    "    x1 = xn_2\n",
    "    return secant(x0, x1, **kwargs)"
   ]
  },
  {
   "cell_type": "markdown",
   "id": "82d7c36f-995b-41fc-84b4-8c6c59cb93fb",
   "metadata": {},
   "source": [
    "<h3>Regula falsi method is a combination of bisection and secant methods, therefore it inherits the condition fun(a) * fun(b) <0 </h3>\n",
    "   <h3>then we can find the x intercept of a tangent line (c) approximating the derivative as we did in secant method </h3>\n",
    "   <h3>if the function at c is 0 or b and a are very close (< 'epsilon') then we can terminate, else we use the bisection method's condition </h3>"
   ]
  },
  {
   "cell_type": "code",
   "execution_count": 6,
   "id": "678ab08b-eb6c-4718-884c-89d7cf00e7a5",
   "metadata": {},
   "outputs": [],
   "source": [
    "# Regula Falsi Method\n",
    "\n",
    "# To provide accuracy (epsilon) give argument in the following form:\n",
    "\n",
    "# regfal(a, b, e = 0.000001)\n",
    "\n",
    "def regfal(a, b, **kwargs):\n",
    "    t_regfal = time.process_time()\n",
    "\n",
    "    global regfal_count \n",
    "    regfal_count+=1\n",
    "    if fun(a) * fun(b) >= 0:\n",
    "        raise ValueError(\"Check your range! fun(a)*fun(b) must be < 0\")\n",
    "    epsilon = kwargs.get('e', 0.00000000000001)\n",
    "    # print(\"a: \", a)\n",
    "    # print(\"b: \", b)\n",
    "\n",
    "    c = (fun(b) * a - fun(a) * b) / (fun(b)-fun(a))\n",
    "    # print(\"c: \", c)\n",
    "    if (abs(fun(c)) == 0) or (abs(b-a) < epsilon):\n",
    "        time_regfal = time.process_time() - t_regfal\n",
    "\n",
    "        res = f'{c:.30f}'\n",
    "        print(\"converged at x = \", res)\n",
    "        print('Regula falsi ended in ' + str(regfal_count) + ' iterations and ' + str(time_regfal))\n",
    "        return res\n",
    "    if fun(c) * fun(a)<0:\n",
    "        b = c\n",
    "    else:\n",
    "        a = c\n",
    "    return regfal(a, b, **kwargs)"
   ]
  },
  {
   "cell_type": "markdown",
   "id": "f0a3020e-a072-419e-a04b-f023bcad2ef0",
   "metadata": {
    "tags": []
   },
   "source": [
    "<h3> (b) first function :</h3>\n",
    "<img src = \"firstfunction.png\"> "
   ]
  },
  {
   "cell_type": "code",
   "execution_count": 7,
   "id": "506fdda7-637e-4c83-94b7-c1cc7a2eeaf1",
   "metadata": {},
   "outputs": [],
   "source": [
    "def fun(x):\n",
    "    return ((668.06/x)*1-e**(-0.146843*x)-40)"
   ]
  },
  {
   "cell_type": "code",
   "execution_count": 8,
   "id": "99b800fb-beb9-438a-b13f-3abf4870d00c",
   "metadata": {},
   "outputs": [
    {
     "ename": "ValueError",
     "evalue": "Check your range! fun(a)*fun(b) must be < 0",
     "output_type": "error",
     "traceback": [
      "\u001b[0;31m---------------------------------------------------------------------------\u001b[0m",
      "\u001b[0;31mValueError\u001b[0m                                Traceback (most recent call last)",
      "Cell \u001b[0;32mIn[8], line 1\u001b[0m\n\u001b[0;32m----> 1\u001b[0m \u001b[43mbisection\u001b[49m\u001b[43m(\u001b[49m\u001b[38;5;241;43m12\u001b[39;49m\u001b[43m,\u001b[49m\u001b[38;5;241;43m16\u001b[39;49m\u001b[43m)\u001b[49m\n",
      "Cell \u001b[0;32mIn[2], line 12\u001b[0m, in \u001b[0;36mbisection\u001b[0;34m(a, b, **kwargs)\u001b[0m\n\u001b[1;32m     10\u001b[0m bisect_count\u001b[38;5;241m+\u001b[39m\u001b[38;5;241m=\u001b[39m\u001b[38;5;241m1\u001b[39m\n\u001b[1;32m     11\u001b[0m \u001b[38;5;28;01mif\u001b[39;00m fun(a) \u001b[38;5;241m*\u001b[39m fun(b) \u001b[38;5;241m>\u001b[39m\u001b[38;5;241m=\u001b[39m \u001b[38;5;241m0\u001b[39m:\n\u001b[0;32m---> 12\u001b[0m     \u001b[38;5;28;01mraise\u001b[39;00m \u001b[38;5;167;01mValueError\u001b[39;00m(\u001b[38;5;124m\"\u001b[39m\u001b[38;5;124mCheck your range! fun(a)*fun(b) must be < 0\u001b[39m\u001b[38;5;124m\"\u001b[39m)\n\u001b[1;32m     14\u001b[0m epsilon \u001b[38;5;241m=\u001b[39m kwargs\u001b[38;5;241m.\u001b[39mget(\u001b[38;5;124m'\u001b[39m\u001b[38;5;124me\u001b[39m\u001b[38;5;124m'\u001b[39m, \u001b[38;5;241m0.00000000000001\u001b[39m)\n\u001b[1;32m     15\u001b[0m midpoint \u001b[38;5;241m=\u001b[39m (a\u001b[38;5;241m+\u001b[39mb)\u001b[38;5;241m/\u001b[39m\u001b[38;5;241m2\u001b[39m\n",
      "\u001b[0;31mValueError\u001b[0m: Check your range! fun(a)*fun(b) must be < 0"
     ]
    }
   ],
   "source": [
    "bisection(12,16)"
   ]
  },
  {
   "cell_type": "markdown",
   "id": "722a2620-6ebc-4a66-837a-dd4a4e57a309",
   "metadata": {},
   "source": [
    "<p>As we can see for the bisection, these initial interval limits do not satisfy the condition, and we can check it in a graphical calculator to see if it is true:\n",
    "</p>\n",
    "<img src = \"bisectionfail.png\">"
   ]
  },
  {
   "cell_type": "markdown",
   "id": "b8772e51-218a-4172-bc43-8b1fa510c502",
   "metadata": {},
   "source": [
    "<p>Both Newton and Secant methods converge and find the root:</p>"
   ]
  },
  {
   "cell_type": "code",
   "execution_count": 9,
   "id": "00f99990-c436-4e1a-88d1-7c3c3a637ee1",
   "metadata": {},
   "outputs": [
    {
     "name": "stdout",
     "output_type": "stream",
     "text": [
      "converged at x =  16.665446311131336898370136623271\n",
      "Newton ended in 6 iterations and 0.0007639999999999869\n",
      "converged at x =  16.665446311131336898370136623271\n",
      "Secant ended in 7 iterations and 1.999999999946489e-06\n"
     ]
    },
    {
     "data": {
      "text/plain": [
       "'16.665446311131336898370136623271'"
      ]
     },
     "execution_count": 9,
     "metadata": {},
     "output_type": "execute_result"
    }
   ],
   "source": [
    "newton(12)\n",
    "secant(12,16)"
   ]
  },
  {
   "cell_type": "markdown",
   "id": "7c916e93-8011-4d77-8231-1c35b80d2d32",
   "metadata": {},
   "source": [
    "<p>Regula falsi fails as expected, due to using the condition as in the bisection method <p>"
   ]
  },
  {
   "cell_type": "code",
   "execution_count": 10,
   "id": "12698575-ca38-45d6-8475-54952c8a3b81",
   "metadata": {},
   "outputs": [
    {
     "ename": "ValueError",
     "evalue": "Check your range! fun(a)*fun(b) must be < 0",
     "output_type": "error",
     "traceback": [
      "\u001b[0;31m---------------------------------------------------------------------------\u001b[0m",
      "\u001b[0;31mValueError\u001b[0m                                Traceback (most recent call last)",
      "Cell \u001b[0;32mIn[10], line 1\u001b[0m\n\u001b[0;32m----> 1\u001b[0m \u001b[43mregfal\u001b[49m\u001b[43m(\u001b[49m\u001b[38;5;241;43m12\u001b[39;49m\u001b[43m,\u001b[49m\u001b[38;5;241;43m16\u001b[39;49m\u001b[43m)\u001b[49m\n",
      "Cell \u001b[0;32mIn[6], line 13\u001b[0m, in \u001b[0;36mregfal\u001b[0;34m(a, b, **kwargs)\u001b[0m\n\u001b[1;32m     11\u001b[0m regfal_count\u001b[38;5;241m+\u001b[39m\u001b[38;5;241m=\u001b[39m\u001b[38;5;241m1\u001b[39m\n\u001b[1;32m     12\u001b[0m \u001b[38;5;28;01mif\u001b[39;00m fun(a) \u001b[38;5;241m*\u001b[39m fun(b) \u001b[38;5;241m>\u001b[39m\u001b[38;5;241m=\u001b[39m \u001b[38;5;241m0\u001b[39m:\n\u001b[0;32m---> 13\u001b[0m     \u001b[38;5;28;01mraise\u001b[39;00m \u001b[38;5;167;01mValueError\u001b[39;00m(\u001b[38;5;124m\"\u001b[39m\u001b[38;5;124mCheck your range! fun(a)*fun(b) must be < 0\u001b[39m\u001b[38;5;124m\"\u001b[39m)\n\u001b[1;32m     14\u001b[0m epsilon \u001b[38;5;241m=\u001b[39m kwargs\u001b[38;5;241m.\u001b[39mget(\u001b[38;5;124m'\u001b[39m\u001b[38;5;124me\u001b[39m\u001b[38;5;124m'\u001b[39m, \u001b[38;5;241m0.00000000000001\u001b[39m)\n\u001b[1;32m     15\u001b[0m \u001b[38;5;66;03m# print(\"a: \", a)\u001b[39;00m\n\u001b[1;32m     16\u001b[0m \u001b[38;5;66;03m# print(\"b: \", b)\u001b[39;00m\n",
      "\u001b[0;31mValueError\u001b[0m: Check your range! fun(a)*fun(b) must be < 0"
     ]
    }
   ],
   "source": [
    "regfal(12,16)"
   ]
  },
  {
   "cell_type": "markdown",
   "id": "15024706-d8c1-447f-a4d0-bbd95ca237af",
   "metadata": {},
   "source": [
    "<h3> (b) second function :</h3>\n",
    "<img src = \"secondfunction.png\"> "
   ]
  },
  {
   "cell_type": "code",
   "execution_count": 11,
   "id": "d5241bf9-05cc-4e7a-87f9-688a3d99c138",
   "metadata": {},
   "outputs": [],
   "source": [
    "def fun(x):\n",
    "    return (x**10 -1)"
   ]
  },
  {
   "cell_type": "code",
   "execution_count": 12,
   "id": "cbe40e78-20f9-4165-86f7-05b9db00a97d",
   "metadata": {},
   "outputs": [],
   "source": [
    "bisect_count=0\n",
    "newton_count=0\n",
    "secant_count=0\n",
    "regfal_count=0"
   ]
  },
  {
   "cell_type": "code",
   "execution_count": 13,
   "id": "4ead54be-bc62-4662-8303-f3241f3f2482",
   "metadata": {},
   "outputs": [
    {
     "name": "stdout",
     "output_type": "stream",
     "text": [
      "converged at x =  1.000000000000001110223024625157\n",
      "Bisection ended in 48 iterations and 2.9999999999752447e-06\n",
      "converged at x =  1.000000000000000000000000000000\n",
      "Newton ended in 8 iterations and 0.0010780000000000234\n",
      "converged at x =  0.181758872698992490768432617188\n",
      "Secant ended in 8 iterations and 4.000000000004e-06\n",
      "converged at x =  0.928884669599214340962589631090\n",
      "Regula falsi ended in 18 iterations and 4.999999999921734e-06\n"
     ]
    },
    {
     "data": {
      "text/plain": [
       "'0.928884669599214340962589631090'"
      ]
     },
     "execution_count": 13,
     "metadata": {},
     "output_type": "execute_result"
    }
   ],
   "source": [
    "bisection(0,1.3)\n",
    "newton(1.3)\n",
    "secant(0,1.3)\n",
    "regfal(0,1.3,e=0.4)"
   ]
  },
  {
   "cell_type": "markdown",
   "id": "0bd6810f-923e-45ad-a2a6-5d257c82eb15",
   "metadata": {},
   "source": [
    "<p>As we can see, bisection and newton methods were able to find the root pretty accurately, however secant method didn't work quite well and for regula falsi I needed to pick quite a high epsilon in order for it to not go to deep into recursion and break the program.\n",
    "</p>"
   ]
  },
  {
   "cell_type": "markdown",
   "id": "87deee45-16ba-474b-8ef1-15da2ac972e3",
   "metadata": {},
   "source": [
    "<h2>Final table of iterations and time elapsed for each method:</h2>\n",
    "<h3>first function:</h3>\n",
    "<img src = \"table1.png\">\n",
    "<h3>second function:</h3>\n",
    "<img src = \"table2.png\">"
   ]
  },
  {
   "cell_type": "markdown",
   "id": "fc5dbfc7-1e60-4edf-8ef7-a319a6ae50b1",
   "metadata": {},
   "source": [
    "<p>As we can see, the iterations are ranked as expected: Newton converges with less number of \n",
    "iterations, then goes Secant, Regula falsi and last is bisection. However we need to note that\n",
    "for time it is not expressing the same tendency, probably due to the implementation, for example\n",
    "I am not really sure how many resources is taken up by sympy in calculating derivatives\n",
    "and maybe there are more efficient ways to implement those algorithms.</p>"
   ]
  },
  {
   "cell_type": "markdown",
   "id": "7cd6e5ea-fa15-4b88-a44b-bd478fc9b889",
   "metadata": {},
   "source": [
    "<p>Also note that the time elapsed for each method is actually a time elapsed for the final computation, therefore we can assume that actual time for whole convergence is time*iterations. I could fix this, but it would make the code more awkward and just by the magnitude of the time we already can see the difference. </p>"
   ]
  }
 ],
 "metadata": {
  "kernelspec": {
   "display_name": "Python 3 (ipykernel)",
   "language": "python",
   "name": "python3"
  },
  "language_info": {
   "codemirror_mode": {
    "name": "ipython",
    "version": 3
   },
   "file_extension": ".py",
   "mimetype": "text/x-python",
   "name": "python",
   "nbconvert_exporter": "python",
   "pygments_lexer": "ipython3",
   "version": "3.10.8"
  }
 },
 "nbformat": 4,
 "nbformat_minor": 5
}
