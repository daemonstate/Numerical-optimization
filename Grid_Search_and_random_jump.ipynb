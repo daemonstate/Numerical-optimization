{
 "cells": [
  {
   "cell_type": "markdown",
   "id": "939d490f-30c3-4368-b1a7-3a17bcc823eb",
   "metadata": {},
   "source": [
    "<p>Every calculation in vanilla python adhere to IEEE 754 standard, therefore precision in floating point calculations need to be adjusted for each method</p>\n",
    "    \n",
    "<h3>In my implementation I use fun(x,y) to define an objective function</h3>\n",
    "\n",
    "<h3>For each method I created a counter to track the number of iterations each method goes through, and also created a variable to track time it took for one iteration</h3>\n"
   ]
  },
  {
   "cell_type": "code",
   "execution_count": 105,
   "id": "4d3fc913-cfe2-4e3d-9455-ee7b3ff4dfe9",
   "metadata": {},
   "outputs": [],
   "source": [
    "#some imports:\n",
    "from inspect import signature\n",
    "import random\n",
    "import numpy as np\n",
    "import itertools\n"
   ]
  },
  {
   "cell_type": "markdown",
   "id": "1e4fe083-86b2-4da0-a912-687f11a2fc25",
   "metadata": {},
   "source": [
    "<h3>I define a function below with x and y</h3>"
   ]
  },
  {
   "cell_type": "code",
   "execution_count": 106,
   "id": "c0964e78-8b76-42ec-9908-055458d04441",
   "metadata": {},
   "outputs": [],
   "source": [
    "def fun(x,y):\n",
    "    return ((x**2+y-11)**2+(x+y**2-7)**2)"
   ]
  },
  {
   "cell_type": "markdown",
   "id": "f50705e0-3604-473f-b5ba-aa4823392a0f",
   "metadata": {},
   "source": [
    "<h3>To implement both of the Random jump method and a grid search method I define a function set_boundaries \n",
    "    that takes the number of variables to set boundaries to and checks that two numbers are given \n",
    "    (I don't check for alphabetical and other because I don't think it is crucial to the task)\n",
    "<br> [also worth mentioning that I used signature parameters to understand how much arguments a funciton has so that we can scale\n",
    "    this code for different functions]\n",
    "</h3>"
   ]
  },
  {
   "cell_type": "markdown",
   "id": "4e680b78-4570-4101-bb01-887bbc95d74a",
   "metadata": {},
   "source": [
    "<h3>To implement a random jump method I set boundaries for each variable, then for each iteration that we wish to proceed with, I find the value of a function at the points that are calculated as follows: l + (r*(u-l)), where l,u are boundaries and r is a random number </h3>\n",
    "\n",
    "<h3>python's random.random() already generates from 0 to 1 so I used that</h3>\n",
    "<h3>for each variable I calculate its value and add it to the variable array, then I find the value of function with that given function and add it to the dictionary</h3>\n",
    "<h3>By finding the lowest value of a dictionary I get my result</h3>\n",
    "<p>There is probably a better way to store the values by comparison, but I couldn't think of it and because our generated values are random we don't know when we will get to the optimum solution</p>\n",
    "<p>Number of iterations is given in the fucntion as an argument, and therefore we know how many calculation loops is done, however it is almost never gonna be on point in accuracy because of the randomness </p>"
   ]
  },
  {
   "cell_type": "code",
   "execution_count": 109,
   "id": "74a89019-01d4-418f-9bad-f9afc6dbbc21",
   "metadata": {},
   "outputs": [],
   "source": [
    "def set_boundaries(n):\n",
    "    #for n variables we set boundaries\n",
    "    boundary_array = []\n",
    "    for i in range(n):\n",
    "        \n",
    "        boundary = input(f'''Input boundaries for variable number {i}, (x_{i})\n",
    "        Please input both numbers separated by comma in this form: l,u ''')\n",
    "        boundary = tuple(int(x) for x in boundary.split(\",\"))\n",
    "        while len(boundary) != 2:\n",
    "            boundary = input(f'''YOU DID NOT GIVE 2 NUMBERS AS BOUNDARIES, PLEASE DO IT AGAIN\n",
    "            Input boundaries for variable number {i}, (x_{i})''')\n",
    "            boundary = tuple(int(x) for x in boundary.split(\",\"))\n",
    "            \n",
    "        boundary_array.append(boundary)\n",
    "        \n",
    "    return boundary_array\n",
    "        \n",
    "def random_jump(iterations):\n",
    "    sig = signature(fun)\n",
    "    n = (len(sig.parameters)) # to get the number of variables of our objective function\n",
    "    print(\"NUMBER OF ARGUMENTS: \", n)\n",
    "    boundary_array = set_boundaries(n)\n",
    "\n",
    "    smartly_violated = {}\n",
    "    \n",
    "    for y in range(iterations):\n",
    "        \n",
    "        variable_array = []\n",
    "        for i in range(n):\n",
    "            r = random.random()\n",
    "            #print(\"Random number: \", r)\n",
    "            l, u = boundary_array[i]\n",
    "            x = l + (r*(u-l))\n",
    "            #print(f\"this number is put as variable (x{i}):\",x)\n",
    "            variable_array.append(x)\n",
    "            \n",
    "        #print(variable_array)\n",
    "\n",
    "        #create a key value pair where key is function value\n",
    "        #and value is variables of the function that give that function value\n",
    "        \n",
    "        smartly_violated[fun(*variable_array)]=variable_array\n",
    "        \n",
    "        \n",
    "        # print(variable_array)\n",
    "        # print(fun(*variable_array))\n",
    "        \n",
    "        answer = min(smartly_violated.keys())\n",
    "    \n",
    "    return answer, smartly_violated[answer]\n",
    "\n"
   ]
  },
  {
   "cell_type": "markdown",
   "id": "80adfa9f-afe9-4831-96db-a26b74bc4774",
   "metadata": {},
   "source": [
    "<p>As we can see after 1000 iterations the minimum was found at some points close to 3 and 2 giving a function value\n",
    "close to 0, Analytically we know the minimum is approached at 0 because we deal with the sum of squares and from expression, the values of x and y should be 3 and 2, and with random jump method we got somewhat close after 1000(!) iterations</p>"
   ]
  },
  {
   "cell_type": "code",
   "execution_count": 111,
   "id": "bc2b66c5-ad18-43c3-a9cd-60ca5ec708ed",
   "metadata": {},
   "outputs": [
    {
     "name": "stdout",
     "output_type": "stream",
     "text": [
      "NUMBER OF ARGUMENTS:  2\n"
     ]
    },
    {
     "name": "stdin",
     "output_type": "stream",
     "text": [
      "Input boundaries for variable number 0, (x_0)\n",
      "        Please input both numbers separated by comma in this form: l,u  0,10\n",
      "Input boundaries for variable number 1, (x_1)\n",
      "        Please input both numbers separated by comma in this form: l,u  0,10\n"
     ]
    },
    {
     "data": {
      "text/plain": [
       "(0.5036654697776486, [3.0594368086030235, 2.1139266174687235])"
      ]
     },
     "execution_count": 111,
     "metadata": {},
     "output_type": "execute_result"
    }
   ],
   "source": [
    "random_jump(1000)"
   ]
  },
  {
   "cell_type": "markdown",
   "id": "4fc83846-d2d6-4a39-9d6b-85a4c6f56919",
   "metadata": {},
   "source": [
    "<h3>For the implementation of a grid search we once again set boundaries using our set_boundaries(), then with the given\n",
    "p I can find a proxy (distance between equally spaced points of a grid) to construct a grid </h3>\n",
    "<h3>I create a grid and using a itertools.product I get all the combinations between my variable arrays in order to recreate\n",
    "a combination of each points in the grid</h3>\n",
    "<h3>Then I simply find the values for each combination and put it in a dictionary in the similar manner to the random jump storing method</h3>\n",
    "\n",
    "<h3>As we can see we go through all of the combinations of a grid, therefore I print out the number of combinations we get</h3>"
   ]
  },
  {
   "cell_type": "code",
   "execution_count": 112,
   "id": "54fcf998-6ccc-4d79-afa7-fcd958d45069",
   "metadata": {},
   "outputs": [],
   "source": [
    "def grid_search(p):\n",
    "    sig = signature(fun)\n",
    "    n = (len(sig.parameters))\n",
    "    print(\"NUMBER OF ARGUMENTS: \", n)\n",
    "    boundary_array = set_boundaries(n)\n",
    "    \n",
    "    variables_array = []\n",
    "    all_iterations = {}\n",
    "    \n",
    "    for i in range(n):\n",
    "        variable_array = []\n",
    "        l, u = boundary_array[i]\n",
    "        proxy = abs(l-u)/p\n",
    "        for _ in range(p+1):\n",
    "            variable_array.append(l)\n",
    "            l += proxy\n",
    "        variables_array.append(variable_array)\n",
    "        \n",
    "    print(\"Grid is set up like this: \",variables_array)\n",
    "    combinations = list(itertools.product(*variables_array))\n",
    "    \n",
    "    # print(\"all combinations: \", combinations)\n",
    "    for i in range(len(combinations)):\n",
    "        all_iterations[fun(*combinations[i])]=combinations[i]\n",
    "    grid_answer = min(all_iterations.keys())\n",
    "    \n",
    "    print(\"Number of iterations: \",len(combinations))\n",
    "    # print(all_iterations)\n",
    "    return grid_answer, all_iterations[grid_answer]"
   ]
  },
  {
   "cell_type": "markdown",
   "id": "ce81ec31-af62-491c-825e-c434bbad761f",
   "metadata": {},
   "source": [
    "<p>After 121 iterations and a separation by 1 unit ranging from 0 to 10 we can get exactly our answer, however\n",
    "it might be because I biased it to have integers, but anyway we can guarantee some accuracy because we can create a very tight\n",
    "grid considering given some limitation boundaries</p>"
   ]
  },
  {
   "cell_type": "code",
   "execution_count": 113,
   "id": "80533424-71bf-446a-9920-14d6b02aa057",
   "metadata": {},
   "outputs": [
    {
     "name": "stdout",
     "output_type": "stream",
     "text": [
      "NUMBER OF ARGUMENTS:  2\n"
     ]
    },
    {
     "name": "stdin",
     "output_type": "stream",
     "text": [
      "Input boundaries for variable number 0, (x_0)\n",
      "        Please input both numbers separated by comma in this form: l,u  0,10\n",
      "Input boundaries for variable number 1, (x_1)\n",
      "        Please input both numbers separated by comma in this form: l,u  0,10\n"
     ]
    },
    {
     "name": "stdout",
     "output_type": "stream",
     "text": [
      "Grid is set up like this:  [[0, 1.0, 2.0, 3.0, 4.0, 5.0, 6.0, 7.0, 8.0, 9.0, 10.0], [0, 1.0, 2.0, 3.0, 4.0, 5.0, 6.0, 7.0, 8.0, 9.0, 10.0]]\n",
      "Number of iterations:  121\n"
     ]
    },
    {
     "data": {
      "text/plain": [
       "(0.0, (3.0, 2.0))"
      ]
     },
     "execution_count": 113,
     "metadata": {},
     "output_type": "execute_result"
    }
   ],
   "source": [
    "grid_search(10)"
   ]
  },
  {
   "cell_type": "markdown",
   "id": "f02c081a-e4e3-47d8-aeba-99505af8b883",
   "metadata": {},
   "source": [
    "<h3>For the last task I just redefine the function fun() and because all the code was already implemented\n",
    "with scale in mind we can see the results:</h3>"
   ]
  },
  {
   "cell_type": "code",
   "execution_count": 114,
   "id": "6cbb5b37-e60e-4c9a-953e-d6ad7ede5055",
   "metadata": {},
   "outputs": [],
   "source": [
    "def fun(x1,x2,x3,x4):\n",
    "    return (x1 - 3)**2 + (x2 + 2)**2 + (x3 * 4)**2 + (x4 // 2)**2"
   ]
  },
  {
   "cell_type": "code",
   "execution_count": 115,
   "id": "a006bba4-a70a-429a-ac54-32c211a4ccd9",
   "metadata": {},
   "outputs": [
    {
     "name": "stdout",
     "output_type": "stream",
     "text": [
      "NUMBER OF ARGUMENTS:  4\n"
     ]
    },
    {
     "name": "stdin",
     "output_type": "stream",
     "text": [
      "Input boundaries for variable number 0, (x_0)\n",
      "        Please input both numbers separated by comma in this form: l,u  -5,5\n",
      "Input boundaries for variable number 1, (x_1)\n",
      "        Please input both numbers separated by comma in this form: l,u  -5,5\n",
      "Input boundaries for variable number 2, (x_2)\n",
      "        Please input both numbers separated by comma in this form: l,u  -5,5\n",
      "Input boundaries for variable number 3, (x_3)\n",
      "        Please input both numbers separated by comma in this form: l,u  -5,5\n"
     ]
    },
    {
     "data": {
      "text/plain": [
       "(2.2458524731965195,\n",
       " [1.9428743559167625,\n",
       "  -2.341071014536472,\n",
       "  -0.02739572145105562,\n",
       "  -0.5749574545714573])"
      ]
     },
     "execution_count": 115,
     "metadata": {},
     "output_type": "execute_result"
    }
   ],
   "source": [
    "random_jump(1000)"
   ]
  },
  {
   "cell_type": "code",
   "execution_count": 116,
   "id": "018f44f9-f3e2-47bd-a5ed-fde1c906a986",
   "metadata": {},
   "outputs": [
    {
     "name": "stdout",
     "output_type": "stream",
     "text": [
      "NUMBER OF ARGUMENTS:  4\n"
     ]
    },
    {
     "name": "stdin",
     "output_type": "stream",
     "text": [
      "Input boundaries for variable number 0, (x_0)\n",
      "        Please input both numbers separated by comma in this form: l,u  -5,5\n",
      "Input boundaries for variable number 1, (x_1)\n",
      "        Please input both numbers separated by comma in this form: l,u  -5,5\n",
      "Input boundaries for variable number 2, (x_2)\n",
      "        Please input both numbers separated by comma in this form: l,u  -5,5\n",
      "Input boundaries for variable number 3, (x_3)\n",
      "        Please input both numbers separated by comma in this form: l,u  -5,5\n"
     ]
    },
    {
     "name": "stdout",
     "output_type": "stream",
     "text": [
      "Grid is set up like this:  [[-5, -4.0, -3.0, -2.0, -1.0, 0.0, 1.0, 2.0, 3.0, 4.0, 5.0], [-5, -4.0, -3.0, -2.0, -1.0, 0.0, 1.0, 2.0, 3.0, 4.0, 5.0], [-5, -4.0, -3.0, -2.0, -1.0, 0.0, 1.0, 2.0, 3.0, 4.0, 5.0], [-5, -4.0, -3.0, -2.0, -1.0, 0.0, 1.0, 2.0, 3.0, 4.0, 5.0]]\n",
      "Number of iterations:  14641\n"
     ]
    },
    {
     "data": {
      "text/plain": [
       "(0.0, (3.0, -2.0, 0.0, 1.0))"
      ]
     },
     "execution_count": 116,
     "metadata": {},
     "output_type": "execute_result"
    }
   ],
   "source": [
    "grid_search(10)"
   ]
  },
  {
   "cell_type": "markdown",
   "id": "46e4b461-4965-4dcd-8973-7680e8631174",
   "metadata": {},
   "source": [
    "<p>In short we can see that after 1000 iterations our best guess at a new function \n",
    "[which is obviously 0 at (3,-2,0,1)] is 2.333 with all values almost close to what it should be</p>\n",
    "\n",
    "<p>In the contrary, the grid search needed 14631 iterations to get spot on the points. Again, I biased it to have a neat grid\n",
    "but who cares, if it was not integers, it would highly depend on the design of the grid</p>"
   ]
  },
  {
   "cell_type": "code",
   "execution_count": null,
   "id": "2fae86d0-2812-4b4a-8847-6a5c6e6baeed",
   "metadata": {},
   "outputs": [],
   "source": []
  }
 ],
 "metadata": {
  "kernelspec": {
   "display_name": "Python 3 (ipykernel)",
   "language": "python",
   "name": "python3"
  },
  "language_info": {
   "codemirror_mode": {
    "name": "ipython",
    "version": 3
   },
   "file_extension": ".py",
   "mimetype": "text/x-python",
   "name": "python",
   "nbconvert_exporter": "python",
   "pygments_lexer": "ipython3",
   "version": "3.10.8"
  }
 },
 "nbformat": 4,
 "nbformat_minor": 5
}
